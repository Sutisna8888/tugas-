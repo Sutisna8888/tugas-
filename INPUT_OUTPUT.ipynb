{
 "cells": [
  {
   "cell_type": "code",
   "execution_count": 3,
   "id": "fa7c3a2d",
   "metadata": {},
   "outputs": [
    {
     "name": "stdout",
     "output_type": "stream",
     "text": [
      "isikan bilangan 1 = 454\n",
      "isikan bilangan 2 = 87\n",
      "Hasil dari 454 + 87 = 541\n"
     ]
    }
   ],
   "source": [
    "#INPUT/OUTPUT\n",
    "\n",
    "bil1 = input(\"isikan bilangan 1 = \")\n",
    "bil2 = input(\"isikan bilangan 2 = \")\n",
    "hasil = int(bil1) + int(bil2)\n",
    "print(\"Hasil dari\",bil1, \"+\", bil2, \"=\", hasil)"
   ]
  },
  {
   "cell_type": "code",
   "execution_count": 6,
   "id": "184d4b2d",
   "metadata": {},
   "outputs": [
    {
     "name": "stdout",
     "output_type": "stream",
     "text": [
      "Masukan Nilai Panjang = 6\n",
      "Masuakan Nilai Lebar = 10\n",
      "luas =  60\n",
      "keliling =  32\n"
     ]
    }
   ],
   "source": [
    "#Progam menghitung luas dan keliling persegi panjang\n",
    "\n",
    "panjang = input(\"Masukan Nilai Panjang = \")\n",
    "lebar = input(\"Masuakan Nilai Lebar = \")\n",
    "luas = int(panjang)* int(lebar)\n",
    "keliling = 2 * (int(panjang)+ int(lebar))\n",
    "\n",
    "print(\"luas = \", luas)\n",
    "print(\"keliling = \", keliling)"
   ]
  },
  {
   "cell_type": "code",
   "execution_count": 13,
   "id": "1b0b9265",
   "metadata": {},
   "outputs": [
    {
     "name": "stdout",
     "output_type": "stream",
     "text": [
      "A@_@B@_@C\n"
     ]
    }
   ],
   "source": [
    "#separator\n",
    "\n",
    "print(\"A\",\"B\",\"C\", sep=\"@_@\")\n",
    "\n",
    "\n"
   ]
  },
  {
   "cell_type": "code",
   "execution_count": 19,
   "id": "60906258",
   "metadata": {
    "scrolled": true
   },
   "outputs": [
    {
     "name": "stdout",
     "output_type": "stream",
     "text": [
      "A\n",
      "B\n",
      "C\n",
      "D ^_^ ^_^ ^_^ ^_^ ^_^ ^_^ ^_^ ^_^ ^_^ ^_^"
     ]
    }
   ],
   "source": [
    "print(\"A\",\"B\",\"C\", \"D\", sep=\"\\n\", end= \" ^_^\" * 10)"
   ]
  },
  {
   "cell_type": "code",
   "execution_count": 31,
   "id": "2cf965b2",
   "metadata": {},
   "outputs": [
    {
     "name": "stdout",
     "output_type": "stream",
     "text": [
      "hasil dari 8 modulus 10 = 8\n"
     ]
    }
   ],
   "source": [
    "num_1 = 8\n",
    "num_2 = 10\n",
    "# Hasil dari 8 modulus 10 = 8\n",
    "#str.format()\n",
    "\n",
    "print(\"hasil dari {} modulus {} = {}\". format(num_1,num_2,num_1%num_2))"
   ]
  },
  {
   "cell_type": "code",
   "execution_count": 24,
   "id": "51903ea1",
   "metadata": {},
   "outputs": [
    {
     "name": "stdout",
     "output_type": "stream",
     "text": [
      "Nama anda Hartono Darmawan Rudi\n"
     ]
    }
   ],
   "source": [
    "fname = \"Rudi\"\n",
    "mname = \"Hartono\"\n",
    "lname = \"Darmawan\"\n",
    "\n",
    "print(\"Nama anda {1} {2} {0}\".format(fname,mname,lname))"
   ]
  },
  {
   "cell_type": "code",
   "execution_count": 32,
   "id": "34b7a343",
   "metadata": {},
   "outputs": [
    {
     "name": "stdout",
     "output_type": "stream",
     "text": [
      "Naman anda Andri, nilai anda 70\n"
     ]
    }
   ],
   "source": [
    "print(\"Naman anda {nama}, nilai anda {nilai}\".format(nama= \"Andri\",nilai=70))"
   ]
  },
  {
   "cell_type": "code",
   "execution_count": 41,
   "id": "e8c6973e",
   "metadata": {},
   "outputs": [
    {
     "name": "stdout",
     "output_type": "stream",
     "text": [
      "karakter pertama :  u\n",
      "karakter terakhir :  a\n",
      "universitas\n",
      "putr\n",
      "putra\n"
     ]
    }
   ],
   "source": [
    "# univ = \"universitas nusa putra\"\n",
    "\n",
    "print(\"karakter pertama : \",univ[0])\n",
    "print(\"karakter terakhir : \",univ[-1])\n",
    "#universitas\n",
    "print(univ[0:11])\n",
    "print(univ[-5:-1])\n",
    "print(univ[17:])"
   ]
  },
  {
   "cell_type": "code",
   "execution_count": 45,
   "id": "b57a8011",
   "metadata": {},
   "outputs": [
    {
     "name": "stdout",
     "output_type": "stream",
     "text": [
      "Nama saya Geri panji\n"
     ]
    }
   ],
   "source": [
    "f_name = \"Geri\"\n",
    "l_name = \"panji\"\n",
    "\n",
    "print(f\"Nama saya {f_name} {l_name}\")"
   ]
  },
  {
   "cell_type": "code",
   "execution_count": 53,
   "id": "04de73df",
   "metadata": {},
   "outputs": [
    {
     "name": "stdout",
     "output_type": "stream",
     "text": [
      "['Budi', 'Andri', 'Chika']\n",
      "['Budi', 'Andri', 'Chika']\n",
      "Budi@Andri@Chika\n",
      "Masukan tanggal Lahir : 18/Oktober/2010\n",
      "Masukan Nama : Bill Gate\n",
      "Tanggal 18, bulan Oktober, tahun 2010\n",
      "Nama inisial : BG\n"
     ]
    }
   ],
   "source": [
    "nama = \"Budi,Andri,Chika\"\n",
    "nama2 = \"Budi Andri Chika\"\n",
    "print(nama2.split())\n",
    "print(nama.split(\",\"))\n",
    "\n",
    "#join -> menggabungkan string kedalam kumpulan karakter\n",
    "\n",
    "print(\"@\".join(nama.split(\",\")))\n",
    "\n",
    "\n",
    "#input tanggal lahir-> 18/2010\n",
    "#input nama -> Bill Gate\n",
    "#output : \n",
    "#tgl : 18, bulan: oktober, tahun 2010\n",
    "#nama inisial : BG\n",
    "\n",
    "Tgl = input(\"Masukan tanggal Lahir : \")\n",
    "nama = input(\"Masukan Nama : \")\n",
    "batas = Tgl.split(\"/\")\n",
    "\n",
    "print(f\"Tanggal {batas[0]}, bulan {batas[1]}, tahun {batas[2]}\")\n",
    "batas2 = nama.split()\n",
    "\n",
    "nama_pertama = batas2[0]\n",
    "nama_kedua = batas2[1]\n",
    "\n",
    "print(f\"Nama inisial : {nama_pertama[0]+nama_kedua[0]}\")"
   ]
  },
  {
   "cell_type": "code",
   "execution_count": null,
   "id": "832fe31c",
   "metadata": {},
   "outputs": [],
   "source": []
  }
 ],
 "metadata": {
  "kernelspec": {
   "display_name": "Python 3 (ipykernel)",
   "language": "python",
   "name": "python3"
  },
  "language_info": {
   "codemirror_mode": {
    "name": "ipython",
    "version": 3
   },
   "file_extension": ".py",
   "mimetype": "text/x-python",
   "name": "python",
   "nbconvert_exporter": "python",
   "pygments_lexer": "ipython3",
   "version": "3.9.12"
  }
 },
 "nbformat": 4,
 "nbformat_minor": 5
}
