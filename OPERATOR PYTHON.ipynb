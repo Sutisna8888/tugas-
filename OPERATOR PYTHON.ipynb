{
 "cells": [
  {
   "cell_type": "code",
   "execution_count": 4,
   "id": "33562895",
   "metadata": {},
   "outputs": [
    {
     "name": "stdout",
     "output_type": "stream",
     "text": [
      "13\n",
      "7\n",
      "30\n",
      "3.3333333333333335\n",
      "1000\n",
      "1\n",
      "3\n"
     ]
    }
   ],
   "source": [
    "#aritmatika\n",
    "\n",
    "num1 = 10\n",
    "num2 = 3\n",
    "\n",
    "\n",
    "jumlah = num1 + num2\n",
    "kurang = num1 - num2\n",
    "kali = num1 * num2\n",
    "bagi = num1 / num2 \n",
    "pangkat = num1**num2\n",
    "modulus = num1 % num2\n",
    "bagi_bulat = num1 // num2\n",
    "print(jumlah)\n",
    "print(kurang)\n",
    "print(kali)\n",
    "print(bagi)\n",
    "print(pangkat)\n",
    "print(modulus)\n",
    "print(bagi_bulat)"
   ]
  },
  {
   "cell_type": "code",
   "execution_count": 6,
   "id": "9540cd3c",
   "metadata": {},
   "outputs": [
    {
     "name": "stdout",
     "output_type": "stream",
     "text": [
      "15\n",
      "11\n",
      "22\n",
      "7.333333333333333\n",
      "3.0\n",
      "27.0\n",
      "1.0\n"
     ]
    }
   ],
   "source": [
    "x = 5 #assignment operator\n",
    "x +=10 # x = x + 10 => 15\n",
    "print(x)\n",
    "x -=4 # x = x -4 => 11\n",
    "print(x)\n",
    "x *=2 # x = x *2 => 22\n",
    "print(x)\n",
    "x /=3 # x = x / 3 => 7...\n",
    "print(x)\n",
    "x //=2 # x = x // 2 => 3.0\n",
    "print(x)\n",
    "x **= 3 # x = x ** 3 => 27\n",
    "print(x)\n",
    "x %= 2 # x = x % 2 => 1 \n",
    "print(x)"
   ]
  },
  {
   "cell_type": "code",
   "execution_count": 10,
   "id": "057735b1",
   "metadata": {},
   "outputs": [
    {
     "name": "stdout",
     "output_type": "stream",
     "text": [
      "False\n",
      "True\n",
      "True\n",
      "False\n",
      "True\n",
      "False\n"
     ]
    }
   ],
   "source": [
    "#operator perbandingan\n",
    "\n",
    "bil1 = 8\n",
    "bil2 = 7\n",
    "\n",
    "is_equal = bil1 == bil2 \n",
    "is_not_equal = bil1 != bil2\n",
    "is_greater_than = bil1 > bil2 \n",
    "is_less_than = bil1 < bil2 \n",
    "is_greater_equal = bil1 >= bil2 \n",
    "is_less_equal = bil1 <= bil2 \n",
    "\n",
    "print(is_equal)\n",
    "print(is_not_equal)\n",
    "print(is_greater_than)\n",
    "print(is_less_than)\n",
    "print(is_greater_equal)\n",
    "print(is_less_equal)"
   ]
  },
  {
   "cell_type": "code",
   "execution_count": 13,
   "id": "64eba707",
   "metadata": {},
   "outputs": [
    {
     "name": "stdout",
     "output_type": "stream",
     "text": [
      "True\n",
      "False\n",
      "True\n"
     ]
    }
   ],
   "source": [
    "#Operato logika\n",
    "\n",
    "var1 = 4 \n",
    "var2 = 10\n",
    "\n",
    "opr_and = var1 < var2 and var1 <=4 #true\n",
    "opr_or = var1 >= var2 or var1 % 2==1 #false\n",
    "opr_not = not opr_or \n",
    "\n",
    "print(opr_and)\n",
    "print(opr_or)\n",
    "print(opr_not)"
   ]
  },
  {
   "cell_type": "code",
   "execution_count": 20,
   "id": "e41d3417",
   "metadata": {},
   "outputs": [
    {
     "name": "stdout",
     "output_type": "stream",
     "text": [
      "True\n",
      "False\n",
      "False\n",
      "False\n",
      "True\n",
      "False\n"
     ]
    }
   ],
   "source": [
    "#Operator identitas\n",
    "\n",
    "fruits = [\"apple\",\"mangoes\",\"watermelon\"]\n",
    "my_favorite_fruits = fruits\n",
    "your_fruits =  [\"apple\",\"mangoes\",\"watermelon\"]\n",
    "\n",
    "print(fruits is my_favorite_fruits)\n",
    "print(fruits is your_fruits)\n",
    "print(fruits is not my_favorite_fruits)\n",
    "print(fruits is your_fruits)\n",
    "\n",
    "a = 5\n",
    "b = 5 #python menggunanakan metode hashing dalam memberikan nilai variabel\n",
    "print(a is b)\n",
    "print(a is not b)\n"
   ]
  },
  {
   "cell_type": "code",
   "execution_count": 21,
   "id": "dc025826",
   "metadata": {
    "scrolled": true
   },
   "outputs": [
    {
     "name": "stdout",
     "output_type": "stream",
     "text": [
      "True\n",
      "False\n",
      "False\n",
      "True\n"
     ]
    }
   ],
   "source": [
    "#Operator Keanggotaan \n",
    "\n",
    "student_names = [\"andi\",\"beni\",\"chika\"]\n",
    "print(\"beni\" in student_names)\n",
    "print(\"andi\" not in student_names)\n",
    "print(\"defi\" in student_names)\n",
    "print(\"defi\" not in student_names)"
   ]
  },
  {
   "cell_type": "code",
   "execution_count": 23,
   "id": "aeee6447",
   "metadata": {},
   "outputs": [
    {
     "name": "stdout",
     "output_type": "stream",
     "text": [
      "15\n",
      "255\n",
      "240\n"
     ]
    }
   ],
   "source": [
    "#Operator Bitwise\n",
    "\n",
    "nilai_and = 255 & 15\n",
    "nilai_or = 255 | 15\n",
    "nilai_xor = 255 ^ 15\n",
    "#11111111\n",
    "#00001111\n",
    "#-------- and\n",
    "#00001111 => 15\n",
    "print(nilai_and)\n",
    "print(nilai_or)\n",
    "print(nilai_xor)"
   ]
  }
 ],
 "metadata": {
  "kernelspec": {
   "display_name": "Python 3 (ipykernel)",
   "language": "python",
   "name": "python3"
  },
  "language_info": {
   "codemirror_mode": {
    "name": "ipython",
    "version": 3
   },
   "file_extension": ".py",
   "mimetype": "text/x-python",
   "name": "python",
   "nbconvert_exporter": "python",
   "pygments_lexer": "ipython3",
   "version": "3.9.12"
  }
 },
 "nbformat": 4,
 "nbformat_minor": 5
}
